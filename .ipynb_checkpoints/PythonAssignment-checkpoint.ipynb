{
 "cells": [
  {
   "cell_type": "markdown",
   "id": "0a90b56d",
   "metadata": {},
   "source": [
    "# Python Assignment"
   ]
  },
  {
   "cell_type": "markdown",
   "id": "87bd428b",
   "metadata": {},
   "source": [
    "# 1. Write a program that swaps the values of two variables."
   ]
  },
  {
   "cell_type": "code",
   "execution_count": 1,
   "id": "351d8b22",
   "metadata": {},
   "outputs": [
    {
     "name": "stdout",
     "output_type": "stream",
     "text": [
      "Enter the first variable: 12\n",
      "Enter the second variable: 10\n",
      "Original values: variable1 = 12 variable2 = 10\n",
      "Swapped values: variable1 = 10 variable2 = 12\n"
     ]
    }
   ],
   "source": [
    "def swap_variables(a, b):\n",
    "    temp = a\n",
    "    a = b\n",
    "    b = temp\n",
    "    return a, b\n",
    "\n",
    "# Taking input from the user\n",
    "variable1 = input(\"Enter the first variable: \")\n",
    "variable2 = input(\"Enter the second variable: \")\n",
    "\n",
    "# Printing the original values\n",
    "print(\"Original values: variable1 =\", variable1, \"variable2 =\", variable2)\n",
    "\n",
    "# Swapping the values using the function\n",
    "variable1, variable2 = swap_variables(variable1, variable2)\n",
    "\n",
    "# Printing the swapped values\n",
    "print(\"Swapped values: variable1 =\", variable1, \"variable2 =\", variable2)"
   ]
  },
  {
   "cell_type": "markdown",
   "id": "e1124f0a",
   "metadata": {},
   "source": [
    "# 2. Write a program that calculates the area of a rectangle given its length and width."
   ]
  },
  {
   "cell_type": "code",
   "execution_count": 2,
   "id": "796aa595",
   "metadata": {},
   "outputs": [
    {
     "name": "stdout",
     "output_type": "stream",
     "text": [
      "Enter the length of the rectangle: 8.9\n",
      "Enter the width of the rectangle: 9.5\n",
      "The area of the rectangle with length 8.9 and width 9.5 is: 84.55\n"
     ]
    }
   ],
   "source": [
    "def calculate_rectangle_area(length, width):\n",
    "    area = length * width\n",
    "    return area\n",
    "\n",
    "# Taking input from the user for length and width\n",
    "length = float(input(\"Enter the length of the rectangle: \"))\n",
    "width = float(input(\"Enter the width of the rectangle: \"))\n",
    "\n",
    "# Calculating the area using the function\n",
    "area = calculate_rectangle_area(length, width)\n",
    "\n",
    "# Printing the calculated area\n",
    "print(\"The area of the rectangle with length\", length, \"and width\", width, \"is:\", area)\n"
   ]
  },
  {
   "cell_type": "markdown",
   "id": "a5ecd9bb",
   "metadata": {},
   "source": [
    "# 3. Write a program that converts temperature from Fahrenheit to Celsius."
   ]
  },
  {
   "cell_type": "code",
   "execution_count": 3,
   "id": "a0b79322",
   "metadata": {},
   "outputs": [
    {
     "name": "stdout",
     "output_type": "stream",
     "text": [
      "Enter temperature in Fahrenheit: 100\n",
      "Temperature in Celsius: 37.78\n"
     ]
    }
   ],
   "source": [
    "# Function to convert Fahrenheit to Celsius\n",
    "def fahrenheit_to_celsius(fahrenheit):\n",
    "    celsius = (fahrenheit - 32) * 5.0/9.0\n",
    "    return celsius\n",
    "\n",
    "# Taking input from the user for temperature in Fahrenheit\n",
    "fahrenheit = float(input(\"Enter temperature in Fahrenheit: \"))\n",
    "\n",
    "# Converting Fahrenheit to Celsius using the function\n",
    "celsius = fahrenheit_to_celsius(fahrenheit)\n",
    "\n",
    "# Printing the converted temperature in Celsius\n",
    "print(\"Temperature in Celsius: {:.2f}\".format(celsius))"
   ]
  },
  {
   "cell_type": "markdown",
   "id": "711bd45c",
   "metadata": {},
   "source": [
    "# 4. Write a program that calculates the volume of a sphere given its radius."
   ]
  },
  {
   "cell_type": "code",
   "execution_count": 9,
   "id": "69b92e4c",
   "metadata": {},
   "outputs": [
    {
     "name": "stdout",
     "output_type": "stream",
     "text": [
      "Enter the radius of the sphere: 8\n",
      "The volume of the sphere with radius 8.0 is:2144.66\n"
     ]
    }
   ],
   "source": [
    "import math\n",
    "\n",
    "# Function to calculate the volume of a sphere\n",
    "def calculate_sphere_volume(radius):\n",
    "    volume = (4/3) * math.pi * (radius ** 3)\n",
    "    return volume\n",
    "\n",
    "# Taking input from the user for the radius of the sphere\n",
    "radius = float(input(\"Enter the radius of the sphere: \"))\n",
    "\n",
    "# Calculating the volume using the function\n",
    "volume = calculate_sphere_volume(radius)\n",
    "\n",
    "# Printing the calculated volume of the sphere\n",
    "print(\"The volume of the sphere with radius\", radius, \"is:{:.2f}\" .format(volume))"
   ]
  },
  {
   "cell_type": "markdown",
   "id": "70ceb518",
   "metadata": {},
   "source": [
    "# 5. Write a program that finds the average of three numbers."
   ]
  },
  {
   "cell_type": "code",
   "execution_count": 10,
   "id": "0bb0a3c2",
   "metadata": {},
   "outputs": [
    {
     "name": "stdout",
     "output_type": "stream",
     "text": [
      "Enter the first number: 8\n",
      "Enter the second number: 10\n",
      "Enter the third number: 6\n",
      "The average of 8.0 , 10.0 , and 6.0 is:8.00\n"
     ]
    }
   ],
   "source": [
    "# Function to calculate the average of three numbers\n",
    "def calculate_average(num1, num2, num3):\n",
    "    average = (num1 + num2 + num3) / 3\n",
    "    return average\n",
    "\n",
    "# Taking input from the user for three numbers\n",
    "num1 = float(input(\"Enter the first number: \"))\n",
    "num2 = float(input(\"Enter the second number: \"))\n",
    "num3 = float(input(\"Enter the third number: \"))\n",
    "\n",
    "# Calculating the average using the function\n",
    "average = calculate_average(num1, num2, num3)\n",
    "\n",
    "# Printing the calculated average\n",
    "print(\"The average of\", num1, \",\", num2, \", and\", num3, \"is:{:.2f}\" .format(average))"
   ]
  },
  {
   "cell_type": "markdown",
   "id": "c5c1327e",
   "metadata": {},
   "source": [
    "# 6. Write a program that determines if a number is even or odd."
   ]
  },
  {
   "cell_type": "code",
   "execution_count": 12,
   "id": "644178a2",
   "metadata": {},
   "outputs": [
    {
     "name": "stdout",
     "output_type": "stream",
     "text": [
      "Enter a number: 45\n",
      "The number 45 is Odd\n"
     ]
    }
   ],
   "source": [
    "# Function to check if a number is even or odd\n",
    "def check_even_or_odd(number):\n",
    "    if number % 2 == 0:\n",
    "        return \"Even\"\n",
    "    else:\n",
    "        return \"Odd\"\n",
    "\n",
    "# Taking input from the user\n",
    "number = int(input(\"Enter a number: \"))\n",
    "\n",
    "# Checking if the number is even or odd using the function\n",
    "result = check_even_or_odd(number)\n",
    "\n",
    "# Printing the result\n",
    "print(\"The number\", number, \"is\", result)"
   ]
  },
  {
   "cell_type": "markdown",
   "id": "e0aeca07",
   "metadata": {},
   "source": [
    "# 7. Write a program that finds the maximum of three numbers."
   ]
  },
  {
   "cell_type": "code",
   "execution_count": 14,
   "id": "07c4f81f",
   "metadata": {},
   "outputs": [
    {
     "name": "stdout",
     "output_type": "stream",
     "text": [
      "Enter the first number: 45\n",
      "Enter the second number: 44\n",
      "Enter the third number: 34\n",
      "The maximum number is: 45.0\n"
     ]
    }
   ],
   "source": [
    "# Get user input for three numbers\n",
    "num1 = float(input(\"Enter the first number: \"))\n",
    "num2 = float(input(\"Enter the second number: \"))\n",
    "num3 = float(input(\"Enter the third number: \"))\n",
    "\n",
    "# Find the maximum number\n",
    "maximum = max(num1, num2, num3)\n",
    "\n",
    "# Print the result\n",
    "print(\"The maximum number is:\", maximum)\n"
   ]
  },
  {
   "cell_type": "markdown",
   "id": "1205f417",
   "metadata": {},
   "source": [
    "# 8. Write a program that determines if a year is a leap year or not."
   ]
  },
  {
   "cell_type": "code",
   "execution_count": 16,
   "id": "dd0e3772",
   "metadata": {},
   "outputs": [
    {
     "name": "stdout",
     "output_type": "stream",
     "text": [
      "Enter a year: 2000\n",
      "2000 is a leap year.\n"
     ]
    }
   ],
   "source": [
    "# Function to check if a year is a leap year or not\n",
    "def is_leap_year(year):\n",
    "    if (year % 4 == 0 and year % 100 != 0) or (year % 400 == 0):\n",
    "        return True\n",
    "    else:\n",
    "        return False\n",
    "\n",
    "# Taking input from the user for the year\n",
    "year = int(input(\"Enter a year: \"))\n",
    "\n",
    "# Checking if the year is a leap year using the function\n",
    "if is_leap_year(year):\n",
    "    print(year, \"is a leap year.\")\n",
    "else:\n",
    "    print(year, \"is not a leap year.\")\n"
   ]
  },
  {
   "cell_type": "markdown",
   "id": "dea12966",
   "metadata": {},
   "source": [
    "# 9. Write a program that determines if a number is positive, negative, or zero."
   ]
  },
  {
   "cell_type": "code",
   "execution_count": 20,
   "id": "01220498",
   "metadata": {},
   "outputs": [
    {
     "name": "stdout",
     "output_type": "stream",
     "text": [
      "Enter a number: -6\n",
      "The number -6.0 is Negative\n"
     ]
    }
   ],
   "source": [
    "# Function to check if a number is positive, negative, or zero\n",
    "def check_positive_negative_zero(number):\n",
    "    if number > 0:\n",
    "        return \"Positive\"\n",
    "    elif number < 0:\n",
    "        return \"Negative\"\n",
    "    else:\n",
    "        return \"Zero\"\n",
    "\n",
    "# Taking input from the user\n",
    "number = float(input(\"Enter a number: \"))\n",
    "\n",
    "# Checking if the number is positive, negative, or zero using the function\n",
    "result = check_positive_negative_zero(number)\n",
    "\n",
    "# Printing the result\n",
    "print(\"The number\", number, \"is\", result)\n"
   ]
  },
  {
   "cell_type": "markdown",
   "id": "50d7ba4f",
   "metadata": {},
   "source": [
    "# 10. Write a program that calculates the grade based on a given percentage."
   ]
  },
  {
   "cell_type": "code",
   "execution_count": 21,
   "id": "a2e7d33c",
   "metadata": {},
   "outputs": [
    {
     "name": "stdout",
     "output_type": "stream",
     "text": [
      "Enter the percentage: 33\n",
      "The grade for 33.0 % is: F\n"
     ]
    }
   ],
   "source": [
    "# Function to calculate the grade based on percentage\n",
    "def calculate_grade(percentage):\n",
    "    if percentage >= 80:\n",
    "        return \"A+\"\n",
    "    elif percentage >= 70:\n",
    "        return \"A\"\n",
    "    elif percentage >= 60:\n",
    "        return \"B\"\n",
    "    elif percentage >= 50:\n",
    "        return \"C\"\n",
    "    elif percentage >= 40:\n",
    "        return \"D\"\n",
    "    else:\n",
    "        return \"F\"\n",
    "\n",
    "# Taking input from the user for the percentage\n",
    "percentage = float(input(\"Enter the percentage: \"))\n",
    "\n",
    "# Calculating the grade using the function\n",
    "grade = calculate_grade(percentage)\n",
    "\n",
    "# Printing the calculated grade\n",
    "print(\"The grade for\", percentage, \"% is:\", grade)\n"
   ]
  },
  {
   "cell_type": "markdown",
   "id": "b5d210e8",
   "metadata": {},
   "source": [
    "# 11. Write a program that prints the first `n` natural numbers."
   ]
  },
  {
   "cell_type": "code",
   "execution_count": 22,
   "id": "e2db72ef",
   "metadata": {},
   "outputs": [
    {
     "name": "stdout",
     "output_type": "stream",
     "text": [
      "Enter the value of n: 5\n",
      "The first 5 natural numbers are:\n",
      "1 2 3 4 5 "
     ]
    }
   ],
   "source": [
    "# Function to print the first n natural numbers\n",
    "def print_natural_numbers(n):\n",
    "    for i in range(1, n + 1):\n",
    "        print(i, end=\" \")\n",
    "\n",
    "# Taking input from the user for the number of natural numbers to print\n",
    "n = int(input(\"Enter the value of n: \"))\n",
    "\n",
    "# Calling the function to print the first n natural numbers\n",
    "print(\"The first\", n, \"natural numbers are:\")\n",
    "print_natural_numbers(n)\n"
   ]
  },
  {
   "cell_type": "markdown",
   "id": "9952697a",
   "metadata": {},
   "source": [
    "# 12. Write a program that calculates the factorial of a number."
   ]
  },
  {
   "cell_type": "code",
   "execution_count": 11,
   "id": "c5b609e0",
   "metadata": {},
   "outputs": [
    {
     "name": "stdout",
     "output_type": "stream",
     "text": [
      "Enter a number: 0\n",
      "The factorial of 0 is: 1\n"
     ]
    }
   ],
   "source": [
    "# Function to calculate the factorial of a number\n",
    "def calculate_factorial(number):\n",
    "    factorial = 1\n",
    "    for i in range (1, number+1):\n",
    "        factorial *= i\n",
    "        print(i)\n",
    "    return factorial\n",
    "\n",
    "# Taking input from the user for the number\n",
    "number = int(input(\"Enter a number: \"))\n",
    "\n",
    "# Calculating the factorial using the function\n",
    "factorial = calculate_factorial(number)\n",
    "\n",
    "# Printing the calculated factorial\n",
    "print(\"The factorial of\", number, \"is:\", factorial)\n"
   ]
  },
  {
   "cell_type": "markdown",
   "id": "ad75fe97",
   "metadata": {},
   "source": [
    "# 13. Write a program that generates a Fibonacci sequence of length `n`."
   ]
  },
  {
   "cell_type": "code",
   "execution_count": 14,
   "id": "4eff1ab4",
   "metadata": {},
   "outputs": [
    {
     "name": "stdout",
     "output_type": "stream",
     "text": [
      "Enter the length of Fibonacci sequence: 10\n",
      "The Fibonacci sequence of length 10 is: [0, 1, 1, 2, 3, 5, 8, 13, 21, 34]\n"
     ]
    }
   ],
   "source": [
    "# Function to generate Fibonacci sequence of length n\n",
    "def generate_fibonacci_sequence(n):\n",
    "    fibonacci_sequence = []\n",
    "    if n <= 0:\n",
    "        return fibonacci_sequence\n",
    "    elif n == 1:\n",
    "        fibonacci_sequence.append(0)\n",
    "    elif n == 2:\n",
    "        fibonacci_sequence.extend([0, 1])\n",
    "    else:\n",
    "        fibonacci_sequence.extend([0, 1])\n",
    "        for i in range(2, n):\n",
    "            next_number = fibonacci_sequence[-1] + fibonacci_sequence[-2]\n",
    "            fibonacci_sequence.append(next_number)\n",
    "    return fibonacci_sequence\n",
    "\n",
    "# Taking input from the user for the length of Fibonacci sequence\n",
    "n = int(input(\"Enter the length of Fibonacci sequence: \"))\n",
    "\n",
    "# Generating the Fibonacci sequence using the function\n",
    "fibonacci_sequence = generate_fibonacci_sequence(n)\n",
    "\n",
    "# Printing the generated Fibonacci sequence\n",
    "print(\"The Fibonacci sequence of length\", n, \"is:\", fibonacci_sequence)\n"
   ]
  },
  {
   "cell_type": "markdown",
   "id": "f07eedb8",
   "metadata": {},
   "source": [
    "# 14. Write a program that checks if a given number is prime or not."
   ]
  },
  {
   "cell_type": "code",
   "execution_count": 15,
   "id": "2f0592cb",
   "metadata": {},
   "outputs": [
    {
     "name": "stdout",
     "output_type": "stream",
     "text": [
      "Enter a number: 78\n",
      "78 is not a prime number.\n"
     ]
    }
   ],
   "source": [
    "# Function to check if a number is prime\n",
    "def is_prime(number):\n",
    "    if number <= 1:\n",
    "        return False\n",
    "    for i in range(2, int(number**0.5) + 1):\n",
    "        if number % i == 0:\n",
    "            return False\n",
    "    return True\n",
    "\n",
    "# Taking input from the user for the number\n",
    "number = int(input(\"Enter a number: \"))\n",
    "\n",
    "# Checking if the number is prime using the function\n",
    "if is_prime(number):\n",
    "    print(number, \"is a prime number.\")\n",
    "else:\n",
    "    print(number, \"is not a prime number.\")"
   ]
  },
  {
   "cell_type": "markdown",
   "id": "8b14d6c3",
   "metadata": {},
   "source": [
    "# 15. Write a program that prints the multiplication table of a given number."
   ]
  },
  {
   "cell_type": "code",
   "execution_count": 16,
   "id": "9eca0630",
   "metadata": {},
   "outputs": [
    {
     "name": "stdout",
     "output_type": "stream",
     "text": [
      "Enter a number: 5\n",
      "Multiplication table for 5 is:\n",
      "5 x 1 = 5\n",
      "5 x 2 = 10\n",
      "5 x 3 = 15\n",
      "5 x 4 = 20\n",
      "5 x 5 = 25\n",
      "5 x 6 = 30\n",
      "5 x 7 = 35\n",
      "5 x 8 = 40\n",
      "5 x 9 = 45\n",
      "5 x 10 = 50\n"
     ]
    }
   ],
   "source": [
    "# Function to print the multiplication table of a number\n",
    "def print_multiplication_table(number):\n",
    "    for i in range(1, 11):\n",
    "        print(number, \"x\", i, \"=\", number * i)\n",
    "\n",
    "# Taking input from the user for the number\n",
    "number = int(input(\"Enter a number: \"))\n",
    "\n",
    "# Printing the multiplication table using the function\n",
    "print(\"Multiplication table for\", number, \"is:\")\n",
    "print_multiplication_table(number)"
   ]
  },
  {
   "cell_type": "markdown",
   "id": "985868e5",
   "metadata": {},
   "source": [
    "# 16. Write a program that finds the sum of all even numbers between 1 and `n`."
   ]
  },
  {
   "cell_type": "code",
   "execution_count": 17,
   "id": "453c0cac",
   "metadata": {},
   "outputs": [
    {
     "name": "stdout",
     "output_type": "stream",
     "text": [
      "Enter a number (n): 4\n",
      "The sum of all even numbers between 1 and 4 is: 6\n"
     ]
    }
   ],
   "source": [
    "# Function to find the sum of all even numbers between 1 and n\n",
    "def sum_even_numbers(n):\n",
    "    sum_even = 0\n",
    "    for i in range(2, n + 1, 2):\n",
    "        sum_even += i\n",
    "    return sum_even\n",
    "\n",
    "# Taking input from the user for the value of n\n",
    "n = int(input(\"Enter a number (n): \"))\n",
    "\n",
    "# Calculating the sum of even numbers using the function\n",
    "sum_of_even_numbers = sum_even_numbers(n)\n",
    "\n",
    "# Printing the sum of even numbers\n",
    "print(\"The sum of all even numbers between 1 and\", n, \"is:\", sum_of_even_numbers)\n"
   ]
  },
  {
   "cell_type": "markdown",
   "id": "0210cb43",
   "metadata": {},
   "source": [
    "# 17. Write a program that reverses a given number."
   ]
  },
  {
   "cell_type": "code",
   "execution_count": 20,
   "id": "ab61d121",
   "metadata": {},
   "outputs": [
    {
     "name": "stdout",
     "output_type": "stream",
     "text": [
      "Enter a number: 6576\n",
      "The reversed number is: 6756\n"
     ]
    }
   ],
   "source": [
    "# Function to reverse a number\n",
    "def reverse_number(number):\n",
    "    reversed_number = 0\n",
    "    while number > 0:\n",
    "        digit = number % 10\n",
    "        reversed_number = reversed_number * 10 + digit\n",
    "        number = number // 10\n",
    "    return reversed_number\n",
    "\n",
    "# Taking input from the user for the number\n",
    "number = int(input(\"Enter a number: \"))\n",
    "\n",
    "# Reversing the number using the function\n",
    "reversed_number = reverse_number(number)\n",
    "\n",
    "# Printing the reversed number\n",
    "print(\"The reversed number is:\", reversed_number)\n"
   ]
  },
  {
   "cell_type": "markdown",
   "id": "24fadf32",
   "metadata": {},
   "source": [
    "# 18. Write a program that checks if a given string is a palindrome."
   ]
  },
  {
   "cell_type": "code",
   "execution_count": 21,
   "id": "f94c3ca9",
   "metadata": {},
   "outputs": [
    {
     "name": "stdout",
     "output_type": "stream",
     "text": [
      "Enter a string: ramar\n",
      "The string is a palindrome.\n"
     ]
    }
   ],
   "source": [
    "# Function to check if a string is a palindrome\n",
    "def is_palindrome(string):\n",
    "    # Remove spaces and convert the string to lowercase for accurate palindrome check\n",
    "    cleaned_string = string.replace(\" \", \"\").lower()\n",
    "    return cleaned_string == cleaned_string[::-1]\n",
    "\n",
    "# Taking input from the user for the string\n",
    "string = input(\"Enter a string: \")\n",
    "\n",
    "# Checking if the string is a palindrome using the function\n",
    "if is_palindrome(string):\n",
    "    print(\"The string is a palindrome.\")\n",
    "else:\n",
    "    print(\"The string is not a palindrome.\")"
   ]
  },
  {
   "cell_type": "markdown",
   "id": "2242f2e6",
   "metadata": {},
   "source": [
    "# 19. Write a program that generates a random number and allows the user to guess it."
   ]
  },
  {
   "cell_type": "code",
   "execution_count": 22,
   "id": "5e52ca64",
   "metadata": {},
   "outputs": [
    {
     "name": "stdout",
     "output_type": "stream",
     "text": [
      "Enter your guess (between 1 and 100): 56\n",
      "Too low! Try again.\n",
      "Enter your guess (between 1 and 100): 45\n",
      "Too low! Try again.\n",
      "Enter your guess (between 1 and 100): 1000\n",
      "Too high! Try again.\n",
      "Enter your guess (between 1 and 100): 100\n",
      "Too high! Try again.\n",
      "Enter your guess (between 1 and 100): 95\n",
      "Too high! Try again.\n",
      "Enter your guess (between 1 and 100): 60\n",
      "Too low! Try again.\n",
      "Enter your guess (between 1 and 100): 70\n",
      "Too low! Try again.\n",
      "Enter your guess (between 1 and 100): 80\n",
      "Too low! Try again.\n",
      "Enter your guess (between 1 and 100): 90\n",
      "Too high! Try again.\n",
      "Enter your guess (between 1 and 100): 89\n",
      "Too high! Try again.\n",
      "Enter your guess (between 1 and 100): 87\n",
      "Too high! Try again.\n",
      "Enter your guess (between 1 and 100): 85\n",
      "Too high! Try again.\n",
      "Enter your guess (between 1 and 100): 81\n",
      "Too low! Try again.\n",
      "Enter your guess (between 1 and 100): 82\n",
      "Too low! Try again.\n",
      "Enter your guess (between 1 and 100): 83\n",
      "Congratulations! You guessed the correct number.\n",
      "Number of attempts: 15\n"
     ]
    }
   ],
   "source": [
    "import random\n",
    "\n",
    "# Generate a random number between 1 and 100\n",
    "random_number = random.randint(1, 100)\n",
    "\n",
    "# Function to check user's guess and provide feedback\n",
    "def check_guess(user_guess, target_number):\n",
    "    if user_guess < target_number:\n",
    "        return \"Too low! Try again.\"\n",
    "    elif user_guess > target_number:\n",
    "        return \"Too high! Try again.\"\n",
    "    else:\n",
    "        return \"Congratulations! You guessed the correct number.\"\n",
    "\n",
    "# Allow the user to guess the number\n",
    "attempts = 0\n",
    "while True:\n",
    "    user_guess = int(input(\"Enter your guess (between 1 and 100): \"))\n",
    "    attempts += 1\n",
    "    result = check_guess(user_guess, random_number)\n",
    "    print(result)\n",
    "    if user_guess == random_number:\n",
    "        print(\"Number of attempts:\", attempts)\n",
    "        break\n"
   ]
  },
  {
   "cell_type": "markdown",
   "id": "6908e394",
   "metadata": {},
   "source": [
    "# 20. Write a program that finds the greatest common divisor (GCD) of two numbers."
   ]
  },
  {
   "cell_type": "code",
   "execution_count": 23,
   "id": "e6c6e448",
   "metadata": {},
   "outputs": [
    {
     "name": "stdout",
     "output_type": "stream",
     "text": [
      "Enter the first number: 9\n",
      "Enter the second number: 90\n",
      "The Greatest Common Divisor (GCD) of 9 and 90 is: 9\n"
     ]
    }
   ],
   "source": [
    "# Function to find the greatest common divisor (GCD) using Euclidean algorithm\n",
    "def gcd(a, b):\n",
    "    while b != 0:\n",
    "        a, b = b, a % b\n",
    "    return a\n",
    "\n",
    "# Taking input from the user for two numbers\n",
    "num1 = int(input(\"Enter the first number: \"))\n",
    "num2 = int(input(\"Enter the second number: \"))\n",
    "\n",
    "# Calculating the GCD using the function\n",
    "gcd_value = gcd(num1, num2)\n",
    "\n",
    "# Printing the calculated GCD\n",
    "print(\"The Greatest Common Divisor (GCD) of\", num1, \"and\", num2, \"is:\", gcd_value)\n"
   ]
  },
  {
   "cell_type": "code",
   "execution_count": null,
   "id": "70bc553b",
   "metadata": {},
   "outputs": [],
   "source": []
  }
 ],
 "metadata": {
  "kernelspec": {
   "display_name": "Python 3",
   "language": "python",
   "name": "python3"
  },
  "language_info": {
   "codemirror_mode": {
    "name": "ipython",
    "version": 3
   },
   "file_extension": ".py",
   "mimetype": "text/x-python",
   "name": "python",
   "nbconvert_exporter": "python",
   "pygments_lexer": "ipython3",
   "version": "3.8.8"
  }
 },
 "nbformat": 4,
 "nbformat_minor": 5
}
