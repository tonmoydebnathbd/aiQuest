{
 "cells": [
  {
   "cell_type": "markdown",
   "id": "ee085b97",
   "metadata": {},
   "source": [
    "# Python Assignment"
   ]
  },
  {
   "cell_type": "markdown",
   "id": "4cac3866",
   "metadata": {},
   "source": [
    "# 1. Write a program that swaps the values of two variables."
   ]
  },
  {
   "cell_type": "code",
   "execution_count": 1,
   "id": "7965e93e",
   "metadata": {},
   "outputs": [
    {
     "name": "stdout",
     "output_type": "stream",
     "text": [
      "Enter the first variable: 12\n",
      "Enter the second variable: 10\n",
      "Original values: variable1 = 12 variable2 = 10\n",
      "Swapped values: variable1 = 10 variable2 = 12\n"
     ]
    }
   ],
   "source": [
    "def swap_variables(a, b):\n",
    "    temp = a\n",
    "    a = b\n",
    "    b = temp\n",
    "    return a, b\n",
    "\n",
    "# Taking input from the user\n",
    "variable1 = input(\"Enter the first variable: \")\n",
    "variable2 = input(\"Enter the second variable: \")\n",
    "\n",
    "# Printing the original values\n",
    "print(\"Original values: variable1 =\", variable1, \"variable2 =\", variable2)\n",
    "\n",
    "# Swapping the values using the function\n",
    "variable1, variable2 = swap_variables(variable1, variable2)\n",
    "\n",
    "# Printing the swapped values\n",
    "print(\"Swapped values: variable1 =\", variable1, \"variable2 =\", variable2)"
   ]
  },
  {
   "cell_type": "markdown",
   "id": "a46b1b31",
   "metadata": {},
   "source": [
    "# 2. Write a program that calculates the area of a rectangle given its length and width."
   ]
  },
  {
   "cell_type": "code",
   "execution_count": 2,
   "id": "da325222",
   "metadata": {},
   "outputs": [
    {
     "name": "stdout",
     "output_type": "stream",
     "text": [
      "Enter the length of the rectangle: 8.9\n",
      "Enter the width of the rectangle: 9.5\n",
      "The area of the rectangle with length 8.9 and width 9.5 is: 84.55\n"
     ]
    }
   ],
   "source": [
    "def calculate_rectangle_area(length, width):\n",
    "    area = length * width\n",
    "    return area\n",
    "\n",
    "# Taking input from the user for length and width\n",
    "length = float(input(\"Enter the length of the rectangle: \"))\n",
    "width = float(input(\"Enter the width of the rectangle: \"))\n",
    "\n",
    "# Calculating the area using the function\n",
    "area = calculate_rectangle_area(length, width)\n",
    "\n",
    "# Printing the calculated area\n",
    "print(\"The area of the rectangle with length\", length, \"and width\", width, \"is:\", area)\n"
   ]
  },
  {
   "cell_type": "markdown",
   "id": "127fcea1",
   "metadata": {},
   "source": [
    "# 3. Write a program that converts temperature from Fahrenheit to Celsius."
   ]
  },
  {
   "cell_type": "code",
   "execution_count": 3,
   "id": "79274efe",
   "metadata": {},
   "outputs": [
    {
     "name": "stdout",
     "output_type": "stream",
     "text": [
      "Enter temperature in Fahrenheit: 100\n",
      "Temperature in Celsius: 37.78\n"
     ]
    }
   ],
   "source": [
    "# Function to convert Fahrenheit to Celsius\n",
    "def fahrenheit_to_celsius(fahrenheit):\n",
    "    celsius = (fahrenheit - 32) * 5.0/9.0\n",
    "    return celsius\n",
    "\n",
    "# Taking input from the user for temperature in Fahrenheit\n",
    "fahrenheit = float(input(\"Enter temperature in Fahrenheit: \"))\n",
    "\n",
    "# Converting Fahrenheit to Celsius using the function\n",
    "celsius = fahrenheit_to_celsius(fahrenheit)\n",
    "\n",
    "# Printing the converted temperature in Celsius\n",
    "print(\"Temperature in Celsius: {:.2f}\".format(celsius))"
   ]
  },
  {
   "cell_type": "markdown",
   "id": "f2e046a6",
   "metadata": {},
   "source": [
    "# 4. Write a program that calculates the volume of a sphere given its radius."
   ]
  },
  {
   "cell_type": "code",
   "execution_count": 6,
   "id": "0d4c094a",
   "metadata": {},
   "outputs": [
    {
     "name": "stdout",
     "output_type": "stream",
     "text": [
      "Enter the radius of the sphere: 3\n",
      "The volume of the sphere with radius 3.0 is:113.10\n"
     ]
    }
   ],
   "source": [
    "import math\n",
    "\n",
    "# Function to calculate the volume of a sphere\n",
    "def calculate_sphere_volume(radius):\n",
    "    volume = (4/3) * math.pi * (radius ** 3)\n",
    "    return volume\n",
    "\n",
    "# Taking input from the user for the radius of the sphere\n",
    "radius = float(input(\"Enter the radius of the sphere: \"))\n",
    "\n",
    "# Calculating the volume using the function\n",
    "volume = calculate_sphere_volume(radius)\n",
    "\n",
    "# Printing the calculated volume of the sphere\n",
    "print(\"The volume of the sphere with radius\", radius, \"is:{:.2f}\".format(volume))"
   ]
  },
  {
   "cell_type": "code",
   "execution_count": 7,
   "id": "4f7c123b",
   "metadata": {},
   "outputs": [
    {
     "name": "stdout",
     "output_type": "stream",
     "text": [
      "Enter the first number: 3\n",
      "Enter the second number: 4\n",
      "Enter the third number: 5\n",
      "The average of 3.0 , 4.0 , and 5.0 is: 4.0\n"
     ]
    }
   ],
   "source": [
    "# Function to calculate the average of three numbers\n",
    "def calculate_average(num1, num2, num3):\n",
    "    average = (num1 + num2 + num3) / 3\n",
    "    return average\n",
    "\n",
    "# Taking input from the user for three numbers\n",
    "num1 = float(input(\"Enter the first number: \"))\n",
    "num2 = float(input(\"Enter the second number: \"))\n",
    "num3 = float(input(\"Enter the third number: \"))\n",
    "\n",
    "# Calculating the average using the function\n",
    "average = calculate_average(num1, num2, num3)\n",
    "\n",
    "# Printing the calculated average\n",
    "print(\"The average of\", num1, \",\", num2, \", and\", num3, \"is:\", average)"
   ]
  },
  {
   "cell_type": "code",
   "execution_count": null,
   "id": "27cd435b",
   "metadata": {},
   "outputs": [],
   "source": []
  }
 ],
 "metadata": {
  "kernelspec": {
   "display_name": "Python 3",
   "language": "python",
   "name": "python3"
  },
  "language_info": {
   "codemirror_mode": {
    "name": "ipython",
    "version": 3
   },
   "file_extension": ".py",
   "mimetype": "text/x-python",
   "name": "python",
   "nbconvert_exporter": "python",
   "pygments_lexer": "ipython3",
   "version": "3.8.8"
  }
 },
 "nbformat": 4,
 "nbformat_minor": 5
}
